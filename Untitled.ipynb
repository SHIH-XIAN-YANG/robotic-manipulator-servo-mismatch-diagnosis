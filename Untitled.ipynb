{
 "cells": [
  {
   "cell_type": "code",
   "execution_count": 3,
   "id": "1612359c",
   "metadata": {},
   "outputs": [],
   "source": [
    "import numpy as np"
   ]
  },
  {
   "cell_type": "code",
   "execution_count": 6,
   "id": "84184b1b",
   "metadata": {},
   "outputs": [],
   "source": [
    "file = 'BandWidth.txt'\n",
    "\n",
    "file_paths = ['C:/Users/Samuel/Desktop/mismatch_diagnal_NN/NN_data/data/dataset/',\n",
    "              'C:/Users/Samuel/Desktop/mismatch_diagnal_NN/NN_data/data/dataset_5000/',\n",
    "              'C:/Users/Samuel/Desktop/mismatch_diagnal_NN/NN_data/data/dataset_10000/',\n",
    "              'C:/Users/Samuel/Desktop/mismatch_diagnal_NN/NN_data/data/dataset2/']\n",
    "\n",
    "save_path = 'C:/Users/Samuel/Desktop/mismatch_diagnal_NN/NN_data/train_data/'\n",
    "\n",
    "\n",
    "stack_data = np.stack(np.loadtxt('C:/Users/Samuel/Desktop/mismatch_diagnal_NN/NN_data/data/dataset/'+file, delimiter=','), axis=0)\n",
    "\n",
    "output_file = save_path+file\n",
    "np.savetxt(output_file, stack_data)"
   ]
  },
  {
   "cell_type": "code",
   "execution_count": 11,
   "id": "b9115502",
   "metadata": {},
   "outputs": [
    {
     "name": "stdout",
     "output_type": "stream",
     "text": [
      "C:/Users/Samuel/Desktop/mismatch_diagnal_NN/NN_data/data/dataset/BandWidth.txt\n",
      "C:/Users/Samuel/Desktop/mismatch_diagnal_NN/NN_data/data/dataset_5000/BandWidth.txt\n",
      "C:/Users/Samuel/Desktop/mismatch_diagnal_NN/NN_data/data/dataset_10000/BandWidth.txt\n",
      "C:/Users/Samuel/Desktop/mismatch_diagnal_NN/NN_data/data/dataset2/BandWidth.txt\n"
     ]
    },
    {
     "data": {
      "text/plain": [
       "[None, None, None, None]"
      ]
     },
     "execution_count": 11,
     "metadata": {},
     "output_type": "execute_result"
    }
   ],
   "source": [
    "[print(file_path+file) for file_path in file_paths]"
   ]
  },
  {
   "cell_type": "code",
   "execution_count": 16,
   "id": "5149a7ec",
   "metadata": {},
   "outputs": [
    {
     "name": "stdout",
     "output_type": "stream",
     "text": [
      "(10000, 6)\n",
      "(5000, 6)\n",
      "(10000, 6)\n",
      "(10000, 6)\n"
     ]
    },
    {
     "name": "stderr",
     "output_type": "stream",
     "text": [
      "C:\\Users\\Samuel\\AppData\\Local\\Temp\\ipykernel_34804\\1525279111.py:17: VisibleDeprecationWarning: Creating an ndarray from ragged nested sequences (which is a list-or-tuple of lists-or-tuples-or ndarrays with different lengths or shapes) is deprecated. If you meant to do this, you must specify 'dtype=object' when creating the ndarray.\n",
      "  data_array = np.array(data_list)\n"
     ]
    }
   ],
   "source": [
    "file = 'BandWidth.txt'\n",
    "\n",
    "\n",
    "file_paths = ['C:/Users/Samuel/Desktop/mismatch_diagnal_NN/NN_data/data/dataset/',\n",
    "              'C:/Users/Samuel/Desktop/mismatch_diagnal_NN/NN_data/data/dataset_5000/',\n",
    "              'C:/Users/Samuel/Desktop/mismatch_diagnal_NN/NN_data/data/dataset_10000/',\n",
    "              'C:/Users/Samuel/Desktop/mismatch_diagnal_NN/NN_data/data/dataset2/']\n",
    "\n",
    "save_path = 'C:/Users/Samuel/Desktop/mismatch_diagnal_NN/NN_data/train_data/'\n",
    "\n",
    "\n",
    "data_list = []\n",
    "for file_path in file_paths:\n",
    "    data = np.loadtxt(file_path+file, delimiter=',')\n",
    "    print(data.shape)\n",
    "    data_list.append(data)\n",
    "data_array = np.array(data_list)\n",
    "\n",
    "    "
   ]
  },
  {
   "cell_type": "code",
   "execution_count": null,
   "id": "b0fb2ca7",
   "metadata": {},
   "outputs": [],
   "source": [
    "output_file = save_path+file\n",
    "np.savetxt(output_file, stack_data)"
   ]
  }
 ],
 "metadata": {
  "kernelspec": {
   "display_name": "Python 3 (ipykernel)",
   "language": "python",
   "name": "python3"
  },
  "language_info": {
   "codemirror_mode": {
    "name": "ipython",
    "version": 3
   },
   "file_extension": ".py",
   "mimetype": "text/x-python",
   "name": "python",
   "nbconvert_exporter": "python",
   "pygments_lexer": "ipython3",
   "version": "3.9.12"
  }
 },
 "nbformat": 4,
 "nbformat_minor": 5
}
